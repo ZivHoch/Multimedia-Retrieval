{
 "cells": [
  {
   "cell_type": "code",
   "execution_count": 3,
   "id": "fbac8a9b-b753-4c60-baf6-25a63cc4ac5e",
   "metadata": {},
   "outputs": [],
   "source": [
    "import numpy as np"
   ]
  },
  {
   "cell_type": "code",
   "execution_count": null,
   "id": "1d702b7a-0c1d-4ff4-8ead-95d382845425",
   "metadata": {},
   "outputs": [],
   "source": [
    "def calculate_angle(p1,p2,p3):\n",
    "    # creating the angle p1p2p3\n",
    "    vec1 = p1 - p2\n",
    "    vec2 = p3 - p2\n",
    "    cos_theta = np.dot(vec1,vec2)/ (np.linalg.norm(vec1) * np.linalg.norm(vec2))\n",
    "    theta = np.arccos(cos_theta)\n",
    "    return np.degrees(theta)\n",
    "    "
   ]
  }
 ],
 "metadata": {
  "kernelspec": {
   "display_name": "Python 3 (ipykernel)",
   "language": "python",
   "name": "python3"
  },
  "language_info": {
   "codemirror_mode": {
    "name": "ipython",
    "version": 3
   },
   "file_extension": ".py",
   "mimetype": "text/x-python",
   "name": "python",
   "nbconvert_exporter": "python",
   "pygments_lexer": "ipython3",
   "version": "3.11.5"
  }
 },
 "nbformat": 4,
 "nbformat_minor": 5
}
